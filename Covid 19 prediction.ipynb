{
 "cells": [
  {
   "cell_type": "markdown",
   "metadata": {},
   "source": [
    "# Covid 19 Patient Status Prediction"
   ]
  },
  {
   "cell_type": "markdown",
   "metadata": {},
   "source": [
    "## 1. Problem Definition"
   ]
  },
  {
   "attachments": {
    "image-2.png": {
     "image/png": "[encoded data removed]"
    }
   },
   "cell_type": "markdown",
   "metadata": {},
   "source": [
    "**Problem statement**\n",
    "<br>When the pandemic occurs, flattening the curve helps us to fight against the virus. It is very important to properally and efficiently distrubte the limited medical resources. If we can fastly and accuratly determine if a patient is in severe status, we can better distribute the medical resources. In this project, I build a fast and accurate model to classify the Covid 19 patients into two classes: the positive class is in high risk, who should go to the hospital to use the equipments; the negative class is in good status, who could stay at home to take medicine and have a good rest.\n",
    "\n",
    "**Inputs**\n",
    "1. age: age of the patient\n",
    "2. age_band: age in the unit of decade\n",
    "3. background_diseases: disease history of the patient\n",
    "4. background_diseases_binary: whether the patient has a disease history\n",
    "5. city: city where the patient is from\n",
    "6. confirmed_date: date when the patient was confirmed with covid 19\n",
    "7. country: country where the patient is from\n",
    "8. date_onset_symptoms: date when the patient showed symptoms\n",
    "9. deceased_date: date when the patient deceased\n",
    "10. infected_by: number of people the patient was infected by\n",
    "11. infection_place: where the patient was infected\n",
    "12. region: region where the patient is from\n",
    "13. released_date: date when the patient was released\n",
    "14. return_date: date when the patient returned from travel\n",
    "15. severity_illness: status of the patient\n",
    "16. sex: gender of the patient\n",
    "17. smoking: whether the patient smokes or not\n",
    "18. symptoms: symptoms of the patient\n",
    "19. treatment: treatment to the patient\n",
    "20. id: number index of the patient\n",
    "21. return_date_until_date_onset_symptoms: days between return and onset of symptoms\n",
    "22. date_onset_symptoms_until_confirmed_date: days between onset of symptoms and confirmation\n",
    "23. confirmed_date_until_released_date: days between confirmation and released\n",
    "24. confirmed_date_until_deceased_date: days between confirmation and deceased\n",
    "25. severity_illness_infectious_person: status of the infectious person\n",
    "\n",
    "**Target**\n",
    "<br>is_severe = 1 (severity_illness is critical or deceased) or 0 (otherwise)\n",
    "\n",
    "**Machine learning**\n",
    "<br>1, Predict severity of a patient based on given informations by applying different models\n",
    "<br>2, Choose the best model and find out the important features closely related to severity\n",
    "\n",
    "**Metrics**\n",
    "<br>Model performance can be evaluated in different ways, here roc_auc is used for classification\n",
    "<br>ROC_AUC: an ROC curve (receiver operating characteristic curve) is a graph showing the performance of a classification model at all classification thresholds. It plots TPR vs. FPR at different classification thresholds. Lowering the classification threshold classifies more items as positive, thus increasing both False Positives and True Positives. AUC stands for \"Area under the ROC Curve.\" That is, ROC_AUC measures the entire two-dimensional area underneath the entire ROC curve (think integral calculus) from (0,0) to (1,1).\n",
    "<br>![image-2.png](attachment:image-2.png)"
   ]
  },
  {
   "cell_type": "markdown",
   "metadata": {},
   "source": [
    "## 2. Pre-model Analysis"
   ]
  },
  {
   "cell_type": "code",
   "execution_count": 380,
   "metadata": {},
   "outputs": [],
   "source": [
    "import numpy as np\n",
    "import pandas as pd\n",
    "import seaborn as sns\n",
    "import missingno as mn\n",
    "\n",
    "from imblearn.over_sampling import SMOTE\n",
    "from imblearn.under_sampling import RandomUnderSampler\n",
    "from sklearn.feature_extraction.text import CountVectorizer\n",
    "from sklearn.pipeline import Pipeline\n",
    "from sklearn.preprocessing import MinMaxScaler\n",
    "from sklearn.model_selection import train_test_split, GridSearchCV\n",
    "from sklearn.metrics import make_scorer, roc_auc_score, classification_report\n",
    "from sklearn.linear_model import LogisticRegression\n",
    "from sklearn.ensemble import RandomForestClassifier\n",
    "from sklearn.naive_bayes import GaussianNB\n",
    "from sklearn.neighbors import KNeighborsClassifier\n",
    "from xgboost import XGBClassifier\n",
    "\n",
    "import matplotlib.pylab as plt\n",
    "%matplotlib inline\n",
    "import warnings\n",
    "warnings.filterwarnings('ignore')\n",
    "\n",
    "np.random.seed(42)"
   ]
  },
  {
   "cell_type": "code",
   "execution_count": 381,
   "metadata": {},
   "outputs": [],
   "source": [
    "raw_df = pd.read_csv(\"Kaggle_COVID19_version6_9-5-20.csv\")"
   ]
  },
  {
   "cell_type": "code",
   "execution_count": 382,
   "metadata": {},
   "outputs": [
    {
     "name": "stdout",
     "output_type": "stream",
     "text": [
      "<class 'pandas.core.frame.DataFrame'>\n",
      "RangeIndex: 628730 entries, 0 to 628729\n",
      "Data columns (total 25 columns):\n",
      " #   Column                                    Non-Null Count   Dtype  \n",
      "---  ------                                    --------------   -----  \n",
      " 0   age                                       148458 non-null  float64\n",
      " 1   age_band                                  148840 non-null  float64\n",
      " 2   background_diseases                       44836 non-null   object \n",
      " 3   background_diseases_binary                520061 non-null  float64\n",
      " 4   city                                      350825 non-null  object \n",
      " 5   confirmed_date                            625211 non-null  object \n",
      " 6   country                                   627729 non-null  object \n",
      " 7   date_onset_symptoms                       130769 non-null  object \n",
      " 8   deceased_date                             5353 non-null    object \n",
      " 9   infected_by                               1653 non-null    object \n",
      " 10  infection_place                           11397 non-null   object \n",
      " 11  region                                    489819 non-null  object \n",
      " 12  released_date                             4928 non-null    object \n",
      " 13  return_date                               2374 non-null    object \n",
      " 14  severity_illness                          22231 non-null   object \n",
      " 15  sex                                       153667 non-null  object \n",
      " 16  smoking                                   116726 non-null  float64\n",
      " 17  symptoms                                  1631 non-null    object \n",
      " 18  treatment                                 131214 non-null  object \n",
      " 19  id                                        628730 non-null  int64  \n",
      " 20  return_date_until_date_onset_symptoms     1383 non-null    float64\n",
      " 21  date_onset_symptoms_until_confirmed_date  130652 non-null  float64\n",
      " 22  confirmed_date_until_released_date        4924 non-null    float64\n",
      " 23  confirmed_date_until_deceased_date        5306 non-null    float64\n",
      " 24  severity_illness_infectious_person        288 non-null     object \n",
      "dtypes: float64(8), int64(1), object(16)\n",
      "memory usage: 119.9+ MB\n"
     ]
    },
    {
     "data": {
      "text/html": [
       "<div>\n",
       "<style scoped>\n",
       "    .dataframe tbody tr th:only-of-type {\n",
       "        vertical-align: middle;\n",
       "    }\n",
       "\n",
       "    .dataframe tbody tr th {\n",
       "        vertical-align: top;\n",
       "    }\n",
       "\n",
       "    .dataframe thead th {\n",
       "        text-align: right;\n",
       "    }\n",
       "</style>\n",
       "<table border=\"1\" class=\"dataframe\">\n",
       "  <thead>\n",
       "    <tr style=\"text-align: right;\">\n",
       "      <th></th>\n",
       "      <th>age</th>\n",
       "      <th>age_band</th>\n",
       "      <th>background_diseases_binary</th>\n",
       "      <th>smoking</th>\n",
       "      <th>id</th>\n",
       "      <th>return_date_until_date_onset_symptoms</th>\n",
       "      <th>date_onset_symptoms_until_confirmed_date</th>\n",
       "      <th>confirmed_date_until_released_date</th>\n",
       "      <th>confirmed_date_until_deceased_date</th>\n",
       "    </tr>\n",
       "  </thead>\n",
       "  <tbody>\n",
       "    <tr>\n",
       "      <th>count</th>\n",
       "      <td>148458.000000</td>\n",
       "      <td>148840.000000</td>\n",
       "      <td>520061.000000</td>\n",
       "      <td>116726.000000</td>\n",
       "      <td>628730.000000</td>\n",
       "      <td>1383.000000</td>\n",
       "      <td>130652.000000</td>\n",
       "      <td>4924.000000</td>\n",
       "      <td>5306.000000</td>\n",
       "    </tr>\n",
       "    <tr>\n",
       "      <th>mean</th>\n",
       "      <td>42.550941</td>\n",
       "      <td>38.113881</td>\n",
       "      <td>0.086234</td>\n",
       "      <td>0.096337</td>\n",
       "      <td>314364.500000</td>\n",
       "      <td>3.295734</td>\n",
       "      <td>4.082701</td>\n",
       "      <td>16.639521</td>\n",
       "      <td>4.951376</td>\n",
       "    </tr>\n",
       "    <tr>\n",
       "      <th>std</th>\n",
       "      <td>17.476798</td>\n",
       "      <td>17.616720</td>\n",
       "      <td>0.280710</td>\n",
       "      <td>0.295054</td>\n",
       "      <td>181498.861711</td>\n",
       "      <td>8.365564</td>\n",
       "      <td>51.046245</td>\n",
       "      <td>9.904881</td>\n",
       "      <td>6.080383</td>\n",
       "    </tr>\n",
       "    <tr>\n",
       "      <th>min</th>\n",
       "      <td>0.000000</td>\n",
       "      <td>0.000000</td>\n",
       "      <td>0.000000</td>\n",
       "      <td>0.000000</td>\n",
       "      <td>0.000000</td>\n",
       "      <td>-33.000000</td>\n",
       "      <td>-18382.000000</td>\n",
       "      <td>-25.000000</td>\n",
       "      <td>-29.000000</td>\n",
       "    </tr>\n",
       "    <tr>\n",
       "      <th>25%</th>\n",
       "      <td>30.000000</td>\n",
       "      <td>30.000000</td>\n",
       "      <td>0.000000</td>\n",
       "      <td>0.000000</td>\n",
       "      <td>157182.250000</td>\n",
       "      <td>0.000000</td>\n",
       "      <td>1.000000</td>\n",
       "      <td>9.000000</td>\n",
       "      <td>1.000000</td>\n",
       "    </tr>\n",
       "    <tr>\n",
       "      <th>50%</th>\n",
       "      <td>41.000000</td>\n",
       "      <td>40.000000</td>\n",
       "      <td>0.000000</td>\n",
       "      <td>0.000000</td>\n",
       "      <td>314364.500000</td>\n",
       "      <td>2.000000</td>\n",
       "      <td>3.000000</td>\n",
       "      <td>14.000000</td>\n",
       "      <td>3.000000</td>\n",
       "    </tr>\n",
       "    <tr>\n",
       "      <th>75%</th>\n",
       "      <td>54.000000</td>\n",
       "      <td>50.000000</td>\n",
       "      <td>0.000000</td>\n",
       "      <td>0.000000</td>\n",
       "      <td>471546.750000</td>\n",
       "      <td>6.000000</td>\n",
       "      <td>6.000000</td>\n",
       "      <td>22.000000</td>\n",
       "      <td>8.000000</td>\n",
       "    </tr>\n",
       "    <tr>\n",
       "      <th>max</th>\n",
       "      <td>113.000000</td>\n",
       "      <td>110.000000</td>\n",
       "      <td>1.000000</td>\n",
       "      <td>1.000000</td>\n",
       "      <td>628729.000000</td>\n",
       "      <td>100.000000</td>\n",
       "      <td>91.000000</td>\n",
       "      <td>68.000000</td>\n",
       "      <td>91.000000</td>\n",
       "    </tr>\n",
       "  </tbody>\n",
       "</table>\n",
       "</div>"
      ],
      "text/plain": [
       "                 age       age_band  background_diseases_binary  \\\n",
       "count  148458.000000  148840.000000               520061.000000   \n",
       "mean       42.550941      38.113881                    0.086234   \n",
       "std        17.476798      17.616720                    0.280710   \n",
       "min         0.000000       0.000000                    0.000000   \n",
       "25%        30.000000      30.000000                    0.000000   \n",
       "50%        41.000000      40.000000                    0.000000   \n",
       "75%        54.000000      50.000000                    0.000000   \n",
       "max       113.000000     110.000000                    1.000000   \n",
       "\n",
       "             smoking             id  return_date_until_date_onset_symptoms  \\\n",
       "count  116726.000000  628730.000000                            1383.000000   \n",
       "mean        0.096337  314364.500000                               3.295734   \n",
       "std         0.295054  181498.861711                               8.365564   \n",
       "min         0.000000       0.000000                             -33.000000   \n",
       "25%         0.000000  157182.250000                               0.000000   \n",
       "50%         0.000000  314364.500000                               2.000000   \n",
       "75%         0.000000  471546.750000                               6.000000   \n",
       "max         1.000000  628729.000000                             100.000000   \n",
       "\n",
       "       date_onset_symptoms_until_confirmed_date  \\\n",
       "count                             130652.000000   \n",
       "mean                                   4.082701   \n",
       "std                                   51.046245   \n",
       "min                               -18382.000000   \n",
       "25%                                    1.000000   \n",
       "50%                                    3.000000   \n",
       "75%                                    6.000000   \n",
       "max                                   91.000000   \n",
       "\n",
       "       confirmed_date_until_released_date  confirmed_date_until_deceased_date  \n",
       "count                         4924.000000                         5306.000000  \n",
       "mean                            16.639521                            4.951376  \n",
       "std                              9.904881                            6.080383  \n",
       "min                            -25.000000                          -29.000000  \n",
       "25%                              9.000000                            1.000000  \n",
       "50%                             14.000000                            3.000000  \n",
       "75%                             22.000000                            8.000000  \n",
       "max                             68.000000                           91.000000  "
      ]
     },
     "execution_count": 382,
     "metadata": {},
     "output_type": "execute_result"
    }
   ],
   "source": [
    "raw_df.info()\n",
    "raw_df.describe()"
   ]
  },
  {
   "cell_type": "code",
   "execution_count": 383,
   "metadata": {},
   "outputs": [
    {
     "data": {
      "text/html": [
       "<div>\n",
       "<style scoped>\n",
       "    .dataframe tbody tr th:only-of-type {\n",
       "        vertical-align: middle;\n",
       "    }\n",
       "\n",
       "    .dataframe tbody tr th {\n",
       "        vertical-align: top;\n",
       "    }\n",
       "\n",
       "    .dataframe thead th {\n",
       "        text-align: right;\n",
       "    }\n",
       "</style>\n",
       "<table border=\"1\" class=\"dataframe\">\n",
       "  <thead>\n",
       "    <tr style=\"text-align: right;\">\n",
       "      <th></th>\n",
       "      <th>Total</th>\n",
       "      <th>Percent</th>\n",
       "    </tr>\n",
       "  </thead>\n",
       "  <tbody>\n",
       "    <tr>\n",
       "      <th>severity_illness_infectious_person</th>\n",
       "      <td>628442</td>\n",
       "      <td>0.999542</td>\n",
       "    </tr>\n",
       "    <tr>\n",
       "      <th>return_date_until_date_onset_symptoms</th>\n",
       "      <td>627347</td>\n",
       "      <td>0.997800</td>\n",
       "    </tr>\n",
       "    <tr>\n",
       "      <th>symptoms</th>\n",
       "      <td>627099</td>\n",
       "      <td>0.997406</td>\n",
       "    </tr>\n",
       "    <tr>\n",
       "      <th>infected_by</th>\n",
       "      <td>627077</td>\n",
       "      <td>0.997371</td>\n",
       "    </tr>\n",
       "    <tr>\n",
       "      <th>return_date</th>\n",
       "      <td>626356</td>\n",
       "      <td>0.996224</td>\n",
       "    </tr>\n",
       "    <tr>\n",
       "      <th>confirmed_date_until_released_date</th>\n",
       "      <td>623806</td>\n",
       "      <td>0.992168</td>\n",
       "    </tr>\n",
       "    <tr>\n",
       "      <th>released_date</th>\n",
       "      <td>623802</td>\n",
       "      <td>0.992162</td>\n",
       "    </tr>\n",
       "    <tr>\n",
       "      <th>confirmed_date_until_deceased_date</th>\n",
       "      <td>623424</td>\n",
       "      <td>0.991561</td>\n",
       "    </tr>\n",
       "    <tr>\n",
       "      <th>deceased_date</th>\n",
       "      <td>623377</td>\n",
       "      <td>0.991486</td>\n",
       "    </tr>\n",
       "    <tr>\n",
       "      <th>infection_place</th>\n",
       "      <td>617333</td>\n",
       "      <td>0.981873</td>\n",
       "    </tr>\n",
       "    <tr>\n",
       "      <th>severity_illness</th>\n",
       "      <td>606499</td>\n",
       "      <td>0.964641</td>\n",
       "    </tr>\n",
       "    <tr>\n",
       "      <th>background_diseases</th>\n",
       "      <td>583894</td>\n",
       "      <td>0.928688</td>\n",
       "    </tr>\n",
       "    <tr>\n",
       "      <th>smoking</th>\n",
       "      <td>512004</td>\n",
       "      <td>0.814346</td>\n",
       "    </tr>\n",
       "    <tr>\n",
       "      <th>date_onset_symptoms_until_confirmed_date</th>\n",
       "      <td>498078</td>\n",
       "      <td>0.792197</td>\n",
       "    </tr>\n",
       "    <tr>\n",
       "      <th>date_onset_symptoms</th>\n",
       "      <td>497961</td>\n",
       "      <td>0.792011</td>\n",
       "    </tr>\n",
       "    <tr>\n",
       "      <th>treatment</th>\n",
       "      <td>497516</td>\n",
       "      <td>0.791303</td>\n",
       "    </tr>\n",
       "    <tr>\n",
       "      <th>age</th>\n",
       "      <td>480272</td>\n",
       "      <td>0.763876</td>\n",
       "    </tr>\n",
       "    <tr>\n",
       "      <th>age_band</th>\n",
       "      <td>479890</td>\n",
       "      <td>0.763269</td>\n",
       "    </tr>\n",
       "    <tr>\n",
       "      <th>sex</th>\n",
       "      <td>475063</td>\n",
       "      <td>0.755591</td>\n",
       "    </tr>\n",
       "    <tr>\n",
       "      <th>city</th>\n",
       "      <td>277905</td>\n",
       "      <td>0.442010</td>\n",
       "    </tr>\n",
       "    <tr>\n",
       "      <th>region</th>\n",
       "      <td>138911</td>\n",
       "      <td>0.220939</td>\n",
       "    </tr>\n",
       "    <tr>\n",
       "      <th>background_diseases_binary</th>\n",
       "      <td>108669</td>\n",
       "      <td>0.172839</td>\n",
       "    </tr>\n",
       "    <tr>\n",
       "      <th>confirmed_date</th>\n",
       "      <td>3519</td>\n",
       "      <td>0.005597</td>\n",
       "    </tr>\n",
       "    <tr>\n",
       "      <th>country</th>\n",
       "      <td>1001</td>\n",
       "      <td>0.001592</td>\n",
       "    </tr>\n",
       "    <tr>\n",
       "      <th>id</th>\n",
       "      <td>0</td>\n",
       "      <td>0.000000</td>\n",
       "    </tr>\n",
       "  </tbody>\n",
       "</table>\n",
       "</div>"
      ],
      "text/plain": [
       "                                           Total   Percent\n",
       "severity_illness_infectious_person        628442  0.999542\n",
       "return_date_until_date_onset_symptoms     627347  0.997800\n",
       "symptoms                                  627099  0.997406\n",
       "infected_by                               627077  0.997371\n",
       "return_date                               626356  0.996224\n",
       "confirmed_date_until_released_date        623806  0.992168\n",
       "released_date                             623802  0.992162\n",
       "confirmed_date_until_deceased_date        623424  0.991561\n",
       "deceased_date                             623377  0.991486\n",
       "infection_place                           617333  0.981873\n",
       "severity_illness                          606499  0.964641\n",
       "background_diseases                       583894  0.928688\n",
       "smoking                                   512004  0.814346\n",
       "date_onset_symptoms_until_confirmed_date  498078  0.792197\n",
       "date_onset_symptoms                       497961  0.792011\n",
       "treatment                                 497516  0.791303\n",
       "age                                       480272  0.763876\n",
       "age_band                                  479890  0.763269\n",
       "sex                                       475063  0.755591\n",
       "city                                      277905  0.442010\n",
       "region                                    138911  0.220939\n",
       "background_diseases_binary                108669  0.172839\n",
       "confirmed_date                              3519  0.005597\n",
       "country                                     1001  0.001592\n",
       "id                                             0  0.000000"
      ]
     },
     "execution_count": 383,
     "metadata": {},
     "output_type": "execute_result"
    }
   ],
   "source": [
    "# Missing data\n",
    "def missing(df):\n",
    "    '''take a dataframe DF and return a summary of the missing data for each column'''\n",
    "    total = df.isnull().sum()\n",
    "    percent = df.isnull().sum()/df.isnull().count()\n",
    "    missing_data = pd.concat([total, percent], axis=1, keys=['Total', 'Percent']).sort_values(\"Total\", ascending=False)\n",
    "    return missing_data\n",
    "\n",
    "missing(raw_df)"
   ]
  },
  {
   "cell_type": "markdown",
   "metadata": {},
   "source": [
    "* There are too many missing values in this dataframe"
   ]
  },
  {
   "cell_type": "code",
   "execution_count": 384,
   "metadata": {},
   "outputs": [
    {
     "data": {
      "text/html": [
       "<div>\n",
       "<style scoped>\n",
       "    .dataframe tbody tr th:only-of-type {\n",
       "        vertical-align: middle;\n",
       "    }\n",
       "\n",
       "    .dataframe tbody tr th {\n",
       "        vertical-align: top;\n",
       "    }\n",
       "\n",
       "    .dataframe thead th {\n",
       "        text-align: right;\n",
       "    }\n",
       "</style>\n",
       "<table border=\"1\" class=\"dataframe\">\n",
       "  <thead>\n",
       "    <tr style=\"text-align: right;\">\n",
       "      <th></th>\n",
       "      <th>country</th>\n",
       "      <th>count</th>\n",
       "      <th>fullness</th>\n",
       "    </tr>\n",
       "  </thead>\n",
       "  <tbody>\n",
       "    <tr>\n",
       "      <th>82</th>\n",
       "      <td>nepal</td>\n",
       "      <td>2</td>\n",
       "      <td>0.680000</td>\n",
       "    </tr>\n",
       "    <tr>\n",
       "      <th>18</th>\n",
       "      <td>cambodia</td>\n",
       "      <td>2</td>\n",
       "      <td>0.600000</td>\n",
       "    </tr>\n",
       "    <tr>\n",
       "      <th>12</th>\n",
       "      <td>bhutan</td>\n",
       "      <td>2</td>\n",
       "      <td>0.560000</td>\n",
       "    </tr>\n",
       "    <tr>\n",
       "      <th>133</th>\n",
       "      <td>vietnam</td>\n",
       "      <td>305</td>\n",
       "      <td>0.488393</td>\n",
       "    </tr>\n",
       "    <tr>\n",
       "      <th>23</th>\n",
       "      <td>colombia</td>\n",
       "      <td>10428</td>\n",
       "      <td>0.473429</td>\n",
       "    </tr>\n",
       "    <tr>\n",
       "      <th>37</th>\n",
       "      <td>gambia</td>\n",
       "      <td>6</td>\n",
       "      <td>0.460000</td>\n",
       "    </tr>\n",
       "    <tr>\n",
       "      <th>63</th>\n",
       "      <td>korea</td>\n",
       "      <td>3362</td>\n",
       "      <td>0.448685</td>\n",
       "    </tr>\n",
       "    <tr>\n",
       "      <th>103</th>\n",
       "      <td>romania</td>\n",
       "      <td>25</td>\n",
       "      <td>0.448000</td>\n",
       "    </tr>\n",
       "    <tr>\n",
       "      <th>78</th>\n",
       "      <td>moldova</td>\n",
       "      <td>1</td>\n",
       "      <td>0.440000</td>\n",
       "    </tr>\n",
       "    <tr>\n",
       "      <th>32</th>\n",
       "      <td>england</td>\n",
       "      <td>1</td>\n",
       "      <td>0.440000</td>\n",
       "    </tr>\n",
       "    <tr>\n",
       "      <th>77</th>\n",
       "      <td>mexico</td>\n",
       "      <td>119323</td>\n",
       "      <td>0.435746</td>\n",
       "    </tr>\n",
       "    <tr>\n",
       "      <th>74</th>\n",
       "      <td>malaysia</td>\n",
       "      <td>34</td>\n",
       "      <td>0.425882</td>\n",
       "    </tr>\n",
       "    <tr>\n",
       "      <th>136</th>\n",
       "      <td>zimbabwe</td>\n",
       "      <td>30</td>\n",
       "      <td>0.414667</td>\n",
       "    </tr>\n",
       "    <tr>\n",
       "      <th>124</th>\n",
       "      <td>tunisia</td>\n",
       "      <td>29</td>\n",
       "      <td>0.405517</td>\n",
       "    </tr>\n",
       "    <tr>\n",
       "      <th>34</th>\n",
       "      <td>ethiopia</td>\n",
       "      <td>98</td>\n",
       "      <td>0.404082</td>\n",
       "    </tr>\n",
       "  </tbody>\n",
       "</table>\n",
       "</div>"
      ],
      "text/plain": [
       "      country   count  fullness\n",
       "82      nepal       2  0.680000\n",
       "18   cambodia       2  0.600000\n",
       "12     bhutan       2  0.560000\n",
       "133   vietnam     305  0.488393\n",
       "23   colombia   10428  0.473429\n",
       "37     gambia       6  0.460000\n",
       "63      korea    3362  0.448685\n",
       "103   romania      25  0.448000\n",
       "78    moldova       1  0.440000\n",
       "32    england       1  0.440000\n",
       "77     mexico  119323  0.435746\n",
       "74   malaysia      34  0.425882\n",
       "136  zimbabwe      30  0.414667\n",
       "124   tunisia      29  0.405517\n",
       "34   ethiopia      98  0.404082"
      ]
     },
     "execution_count": 384,
     "metadata": {},
     "output_type": "execute_result"
    }
   ],
   "source": [
    "# check data fullness by countries\n",
    "g = raw_df.groupby(by=\"country\")\n",
    "countries = []\n",
    "counts = []\n",
    "fullness = []\n",
    "for country, df in g:\n",
    "    countries.append(country)\n",
    "    counts.append(len(df))\n",
    "    fullness.append(df.count().mean() / len(df))\n",
    "f_df = pd.DataFrame({\"country\": countries, \"count\": counts, \"fullness\": fullness}).sort_values(\"fullness\", ascending=False)\n",
    "f_df[f_df[\"fullness\"] > 0.4]"
   ]
  },
  {
   "cell_type": "markdown",
   "metadata": {},
   "source": [
    "* Among all the contry data with at least 40% fullness. Patient data from Mexico has the largest volume. We will choose the Mexico patient data for further analysis."
   ]
  },
  {
   "cell_type": "code",
   "execution_count": 385,
   "metadata": {},
   "outputs": [
    {
     "data": {
      "text/plain": [
       "<matplotlib.axes._subplots.AxesSubplot at 0x2935acd0c08>"
      ]
     },
     "execution_count": 385,
     "metadata": {},
     "output_type": "execute_result"
    },
    {
     "data": {
      "image/png": "[encoded data removed]",
      "text/plain": [
       "<Figure size 1800x720 with 2 Axes>"
      ]
     },
     "metadata": {
      "needs_background": "light"
     },
     "output_type": "display_data"
    }
   ],
   "source": [
    "mex_df = g.get_group(\"mexico\")\n",
    "mn.matrix(mex_df)"
   ]
  },
  {
   "cell_type": "code",
   "execution_count": 386,
   "metadata": {},
   "outputs": [
    {
     "data": {
      "text/html": [
       "<div>\n",
       "<style scoped>\n",
       "    .dataframe tbody tr th:only-of-type {\n",
       "        vertical-align: middle;\n",
       "    }\n",
       "\n",
       "    .dataframe tbody tr th {\n",
       "        vertical-align: top;\n",
       "    }\n",
       "\n",
       "    .dataframe thead th {\n",
       "        text-align: right;\n",
       "    }\n",
       "</style>\n",
       "<table border=\"1\" class=\"dataframe\">\n",
       "  <thead>\n",
       "    <tr style=\"text-align: right;\">\n",
       "      <th></th>\n",
       "      <th>Total</th>\n",
       "      <th>Percent</th>\n",
       "    </tr>\n",
       "  </thead>\n",
       "  <tbody>\n",
       "    <tr>\n",
       "      <th>released_date</th>\n",
       "      <td>119323</td>\n",
       "      <td>1.000000</td>\n",
       "    </tr>\n",
       "    <tr>\n",
       "      <th>infected_by</th>\n",
       "      <td>119323</td>\n",
       "      <td>1.000000</td>\n",
       "    </tr>\n",
       "    <tr>\n",
       "      <th>confirmed_date_until_released_date</th>\n",
       "      <td>119323</td>\n",
       "      <td>1.000000</td>\n",
       "    </tr>\n",
       "    <tr>\n",
       "      <th>symptoms</th>\n",
       "      <td>119323</td>\n",
       "      <td>1.000000</td>\n",
       "    </tr>\n",
       "    <tr>\n",
       "      <th>severity_illness_infectious_person</th>\n",
       "      <td>119323</td>\n",
       "      <td>1.000000</td>\n",
       "    </tr>\n",
       "    <tr>\n",
       "      <th>city</th>\n",
       "      <td>118781</td>\n",
       "      <td>0.995458</td>\n",
       "    </tr>\n",
       "    <tr>\n",
       "      <th>return_date_until_date_onset_symptoms</th>\n",
       "      <td>118657</td>\n",
       "      <td>0.994419</td>\n",
       "    </tr>\n",
       "    <tr>\n",
       "      <th>return_date</th>\n",
       "      <td>118655</td>\n",
       "      <td>0.994402</td>\n",
       "    </tr>\n",
       "    <tr>\n",
       "      <th>infection_place</th>\n",
       "      <td>118645</td>\n",
       "      <td>0.994318</td>\n",
       "    </tr>\n",
       "    <tr>\n",
       "      <th>region</th>\n",
       "      <td>117215</td>\n",
       "      <td>0.982334</td>\n",
       "    </tr>\n",
       "    <tr>\n",
       "      <th>confirmed_date_until_deceased_date</th>\n",
       "      <td>114778</td>\n",
       "      <td>0.961910</td>\n",
       "    </tr>\n",
       "    <tr>\n",
       "      <th>deceased_date</th>\n",
       "      <td>114778</td>\n",
       "      <td>0.961910</td>\n",
       "    </tr>\n",
       "    <tr>\n",
       "      <th>severity_illness</th>\n",
       "      <td>112914</td>\n",
       "      <td>0.946289</td>\n",
       "    </tr>\n",
       "    <tr>\n",
       "      <th>background_diseases</th>\n",
       "      <td>74708</td>\n",
       "      <td>0.626099</td>\n",
       "    </tr>\n",
       "    <tr>\n",
       "      <th>background_diseases_binary</th>\n",
       "      <td>72596</td>\n",
       "      <td>0.608399</td>\n",
       "    </tr>\n",
       "    <tr>\n",
       "      <th>smoking</th>\n",
       "      <td>2597</td>\n",
       "      <td>0.021764</td>\n",
       "    </tr>\n",
       "    <tr>\n",
       "      <th>treatment</th>\n",
       "      <td>2112</td>\n",
       "      <td>0.017700</td>\n",
       "    </tr>\n",
       "    <tr>\n",
       "      <th>date_onset_symptoms_until_confirmed_date</th>\n",
       "      <td>66</td>\n",
       "      <td>0.000553</td>\n",
       "    </tr>\n",
       "    <tr>\n",
       "      <th>confirmed_date</th>\n",
       "      <td>60</td>\n",
       "      <td>0.000503</td>\n",
       "    </tr>\n",
       "    <tr>\n",
       "      <th>sex</th>\n",
       "      <td>24</td>\n",
       "      <td>0.000201</td>\n",
       "    </tr>\n",
       "    <tr>\n",
       "      <th>date_onset_symptoms</th>\n",
       "      <td>6</td>\n",
       "      <td>0.000050</td>\n",
       "    </tr>\n",
       "    <tr>\n",
       "      <th>age_band</th>\n",
       "      <td>2</td>\n",
       "      <td>0.000017</td>\n",
       "    </tr>\n",
       "    <tr>\n",
       "      <th>age</th>\n",
       "      <td>2</td>\n",
       "      <td>0.000017</td>\n",
       "    </tr>\n",
       "    <tr>\n",
       "      <th>id</th>\n",
       "      <td>0</td>\n",
       "      <td>0.000000</td>\n",
       "    </tr>\n",
       "    <tr>\n",
       "      <th>country</th>\n",
       "      <td>0</td>\n",
       "      <td>0.000000</td>\n",
       "    </tr>\n",
       "  </tbody>\n",
       "</table>\n",
       "</div>"
      ],
      "text/plain": [
       "                                           Total   Percent\n",
       "released_date                             119323  1.000000\n",
       "infected_by                               119323  1.000000\n",
       "confirmed_date_until_released_date        119323  1.000000\n",
       "symptoms                                  119323  1.000000\n",
       "severity_illness_infectious_person        119323  1.000000\n",
       "city                                      118781  0.995458\n",
       "return_date_until_date_onset_symptoms     118657  0.994419\n",
       "return_date                               118655  0.994402\n",
       "infection_place                           118645  0.994318\n",
       "region                                    117215  0.982334\n",
       "confirmed_date_until_deceased_date        114778  0.961910\n",
       "deceased_date                             114778  0.961910\n",
       "severity_illness                          112914  0.946289\n",
       "background_diseases                        74708  0.626099\n",
       "background_diseases_binary                 72596  0.608399\n",
       "smoking                                     2597  0.021764\n",
       "treatment                                   2112  0.017700\n",
       "date_onset_symptoms_until_confirmed_date      66  0.000553\n",
       "confirmed_date                                60  0.000503\n",
       "sex                                           24  0.000201\n",
       "date_onset_symptoms                            6  0.000050\n",
       "age_band                                       2  0.000017\n",
       "age                                            2  0.000017\n",
       "id                                             0  0.000000\n",
       "country                                        0  0.000000"
      ]
     },
     "execution_count": 386,
     "metadata": {},
     "output_type": "execute_result"
    }
   ],
   "source": [
    "# Missing data for Mexico\n",
    "ms_df = missing(mex_df)\n",
    "ms_df"
   ]
  },
  {
   "cell_type": "markdown",
   "metadata": {},
   "source": [
    "* All other columns with more than 90% missing data would be dropped, except for severity_illness, which will be used to generate our target is_severe. \n",
    "* Country will be dropped, as it has only one value Mexico. \n",
    "* Id will also be dropped, as it only labels the patient number index."
   ]
  },
  {
   "cell_type": "markdown",
   "metadata": {},
   "source": [
    "## 3. Feature Engineering"
   ]
  },
  {
   "cell_type": "markdown",
   "metadata": {},
   "source": [
    "### 3.1 Drop sparse features"
   ]
  },
  {
   "cell_type": "code",
   "execution_count": 404,
   "metadata": {},
   "outputs": [
    {
     "data": {
      "text/html": [
       "<div>\n",
       "<style scoped>\n",
       "    .dataframe tbody tr th:only-of-type {\n",
       "        vertical-align: middle;\n",
       "    }\n",
       "\n",
       "    .dataframe tbody tr th {\n",
       "        vertical-align: top;\n",
       "    }\n",
       "\n",
       "    .dataframe thead th {\n",
       "        text-align: right;\n",
       "    }\n",
       "</style>\n",
       "<table border=\"1\" class=\"dataframe\">\n",
       "  <thead>\n",
       "    <tr style=\"text-align: right;\">\n",
       "      <th></th>\n",
       "      <th>background_diseases</th>\n",
       "      <th>background_diseases_binary</th>\n",
       "      <th>smoking</th>\n",
       "      <th>treatment</th>\n",
       "      <th>days_apart</th>\n",
       "      <th>confirmed_date</th>\n",
       "      <th>sex</th>\n",
       "      <th>date_onset_symptoms</th>\n",
       "      <th>age_band</th>\n",
       "      <th>age</th>\n",
       "      <th>severity_illness</th>\n",
       "    </tr>\n",
       "  </thead>\n",
       "  <tbody>\n",
       "    <tr>\n",
       "      <th>0</th>\n",
       "      <td>NaN</td>\n",
       "      <td>NaN</td>\n",
       "      <td>1.0</td>\n",
       "      <td>clinic</td>\n",
       "      <td>0.0</td>\n",
       "      <td>2020-01-28</td>\n",
       "      <td>female</td>\n",
       "      <td>2020-01-28</td>\n",
       "      <td>20.0</td>\n",
       "      <td>26.0</td>\n",
       "      <td>NaN</td>\n",
       "    </tr>\n",
       "    <tr>\n",
       "      <th>1</th>\n",
       "      <td>diabetes, hypertension,</td>\n",
       "      <td>1.0</td>\n",
       "      <td>0.0</td>\n",
       "      <td>hospitalized</td>\n",
       "      <td>0.0</td>\n",
       "      <td>2020-03-16</td>\n",
       "      <td>female</td>\n",
       "      <td>2020-03-16</td>\n",
       "      <td>40.0</td>\n",
       "      <td>47.0</td>\n",
       "      <td>deceased</td>\n",
       "    </tr>\n",
       "    <tr>\n",
       "      <th>2</th>\n",
       "      <td>NaN</td>\n",
       "      <td>NaN</td>\n",
       "      <td>0.0</td>\n",
       "      <td>clinic</td>\n",
       "      <td>2.0</td>\n",
       "      <td>2020-03-20</td>\n",
       "      <td>male</td>\n",
       "      <td>2020-03-18</td>\n",
       "      <td>40.0</td>\n",
       "      <td>48.0</td>\n",
       "      <td>NaN</td>\n",
       "    </tr>\n",
       "    <tr>\n",
       "      <th>3</th>\n",
       "      <td>diabetes, hypertension,</td>\n",
       "      <td>1.0</td>\n",
       "      <td>0.0</td>\n",
       "      <td>hospitalized</td>\n",
       "      <td>5.0</td>\n",
       "      <td>2020-03-25</td>\n",
       "      <td>male</td>\n",
       "      <td>2020-03-20</td>\n",
       "      <td>50.0</td>\n",
       "      <td>51.0</td>\n",
       "      <td>NaN</td>\n",
       "    </tr>\n",
       "    <tr>\n",
       "      <th>4</th>\n",
       "      <td>diabetes,</td>\n",
       "      <td>1.0</td>\n",
       "      <td>0.0</td>\n",
       "      <td>hospitalized</td>\n",
       "      <td>0.0</td>\n",
       "      <td>2020-03-23</td>\n",
       "      <td>female</td>\n",
       "      <td>2020-03-23</td>\n",
       "      <td>60.0</td>\n",
       "      <td>61.0</td>\n",
       "      <td>NaN</td>\n",
       "    </tr>\n",
       "  </tbody>\n",
       "</table>\n",
       "</div>"
      ],
      "text/plain": [
       "        background_diseases  background_diseases_binary  smoking  \\\n",
       "0                       NaN                         NaN      1.0   \n",
       "1   diabetes, hypertension,                         1.0      0.0   \n",
       "2                       NaN                         NaN      0.0   \n",
       "3   diabetes, hypertension,                         1.0      0.0   \n",
       "4                 diabetes,                         1.0      0.0   \n",
       "\n",
       "      treatment  days_apart confirmed_date     sex date_onset_symptoms  \\\n",
       "0        clinic         0.0     2020-01-28  female          2020-01-28   \n",
       "1  hospitalized         0.0     2020-03-16  female          2020-03-16   \n",
       "2        clinic         2.0     2020-03-20    male          2020-03-18   \n",
       "3  hospitalized         5.0     2020-03-25    male          2020-03-20   \n",
       "4  hospitalized         0.0     2020-03-23  female          2020-03-23   \n",
       "\n",
       "   age_band   age severity_illness  \n",
       "0      20.0  26.0              NaN  \n",
       "1      40.0  47.0         deceased  \n",
       "2      40.0  48.0              NaN  \n",
       "3      50.0  51.0              NaN  \n",
       "4      60.0  61.0              NaN  "
      ]
     },
     "execution_count": 404,
     "metadata": {},
     "output_type": "execute_result"
    }
   ],
   "source": [
    "# drop columns with large missing values\n",
    "df = mex_df[['background_diseases', 'background_diseases_binary', 'smoking', 'treatment', \n",
    "             'date_onset_symptoms_until_confirmed_date', 'confirmed_date', 'sex', 'date_onset_symptoms', \n",
    "             'age_band', 'age', 'severity_illness']].reset_index(drop=True)\n",
    "df = df.rename(columns={'date_onset_symptoms_until_confirmed_date': 'days_apart'})\n",
    "df.head()"
   ]
  },
  {
   "cell_type": "markdown",
   "metadata": {},
   "source": [
    "### 3.2 Background disease"
   ]
  },
  {
   "cell_type": "code",
   "execution_count": 405,
   "metadata": {},
   "outputs": [
    {
     "data": {
      "text/plain": [
       "array([nan,  1.,  0.])"
      ]
     },
     "execution_count": 405,
     "metadata": {},
     "output_type": "execute_result"
    }
   ],
   "source": [
    "df['background_diseases_binary'].unique()"
   ]
  },
  {
   "cell_type": "code",
   "execution_count": 406,
   "metadata": {
    "scrolled": true
   },
   "outputs": [
    {
     "name": "stdout",
     "output_type": "stream",
     "text": [
      "No background_diseases_binary record and has background_diseases record: 0\n",
      "No background_diseases_binary record and no background_diseases record: 72596\n",
      "Background_diseases_binary = 0 and has background_diseases record: 0\n",
      "Background_diseases_binary = 0 and no background_diseases record: 2112\n",
      "Background_diseases_binary = 1 and has background_diseases record: 44615\n",
      "Background_diseases_binary = 1 and no background_diseases record: 0\n"
     ]
    }
   ],
   "source": [
    "c1 = df[df['background_diseases'].notnull() & (df['background_diseases_binary'].isnull())]\n",
    "c2 = df[df['background_diseases'].isnull() & (df['background_diseases_binary'].isnull())]\n",
    "c3 = df[df['background_diseases'].notnull() & (df['background_diseases_binary']==0)]\n",
    "c4 = df[df['background_diseases'].isnull() & (df['background_diseases_binary']==0)]\n",
    "c5 = df[df['background_diseases'].notnull() & (df['background_diseases_binary']==1)]\n",
    "c6 = df[df['background_diseases'].isnull() & (df['background_diseases_binary']==1)]\n",
    "print(\"No background_diseases_binary record and has background_diseases record:\", len(c1))\n",
    "print(\"No background_diseases_binary record and no background_diseases record:\", len(c2))\n",
    "print(\"Background_diseases_binary = 0 and has background_diseases record:\", len(c3))\n",
    "print(\"Background_diseases_binary = 0 and no background_diseases record:\", len(c4))\n",
    "print(\"Background_diseases_binary = 1 and has background_diseases record:\", len(c5))\n",
    "print(\"Background_diseases_binary = 1 and no background_diseases record:\", len(c6))"
   ]
  },
  {
   "cell_type": "markdown",
   "metadata": {},
   "source": [
    "1. All patients with background_diseases_binary of 1 has background_diseases record and all patients without background_diseases_binary of 1 has no background_diseases record.\n",
    "2. We will fill the null background_diseases values with background_diseases_binary of 0 as no_disease\n",
    "3. We will fill the null background_diseases values with also null background_diseases_binary as unknown_disease\n",
    "4. With these labels, we can one-hot encode the new background_diseases and drop the background_diseases_binary"
   ]
  },
  {
   "cell_type": "code",
   "execution_count": 407,
   "metadata": {},
   "outputs": [
    {
     "data": {
      "text/html": [
       "<div>\n",
       "<style scoped>\n",
       "    .dataframe tbody tr th:only-of-type {\n",
       "        vertical-align: middle;\n",
       "    }\n",
       "\n",
       "    .dataframe tbody tr th {\n",
       "        vertical-align: top;\n",
       "    }\n",
       "\n",
       "    .dataframe thead th {\n",
       "        text-align: right;\n",
       "    }\n",
       "</style>\n",
       "<table border=\"1\" class=\"dataframe\">\n",
       "  <thead>\n",
       "    <tr style=\"text-align: right;\">\n",
       "      <th></th>\n",
       "      <th>asthma</th>\n",
       "      <th>cardiovascular</th>\n",
       "      <th>diabetes</th>\n",
       "      <th>failure</th>\n",
       "      <th>hypertension</th>\n",
       "      <th>immunosuppression</th>\n",
       "      <th>kidney</th>\n",
       "      <th>no_disease</th>\n",
       "      <th>obesity</th>\n",
       "      <th>unknown_disease</th>\n",
       "    </tr>\n",
       "  </thead>\n",
       "  <tbody>\n",
       "    <tr>\n",
       "      <th>0</th>\n",
       "      <td>0</td>\n",
       "      <td>0</td>\n",
       "      <td>0</td>\n",
       "      <td>0</td>\n",
       "      <td>0</td>\n",
       "      <td>0</td>\n",
       "      <td>0</td>\n",
       "      <td>0</td>\n",
       "      <td>0</td>\n",
       "      <td>1</td>\n",
       "    </tr>\n",
       "    <tr>\n",
       "      <th>1</th>\n",
       "      <td>0</td>\n",
       "      <td>0</td>\n",
       "      <td>1</td>\n",
       "      <td>0</td>\n",
       "      <td>1</td>\n",
       "      <td>0</td>\n",
       "      <td>0</td>\n",
       "      <td>0</td>\n",
       "      <td>0</td>\n",
       "      <td>0</td>\n",
       "    </tr>\n",
       "    <tr>\n",
       "      <th>2</th>\n",
       "      <td>0</td>\n",
       "      <td>0</td>\n",
       "      <td>0</td>\n",
       "      <td>0</td>\n",
       "      <td>0</td>\n",
       "      <td>0</td>\n",
       "      <td>0</td>\n",
       "      <td>0</td>\n",
       "      <td>0</td>\n",
       "      <td>1</td>\n",
       "    </tr>\n",
       "    <tr>\n",
       "      <th>3</th>\n",
       "      <td>0</td>\n",
       "      <td>0</td>\n",
       "      <td>1</td>\n",
       "      <td>0</td>\n",
       "      <td>1</td>\n",
       "      <td>0</td>\n",
       "      <td>0</td>\n",
       "      <td>0</td>\n",
       "      <td>0</td>\n",
       "      <td>0</td>\n",
       "    </tr>\n",
       "    <tr>\n",
       "      <th>4</th>\n",
       "      <td>0</td>\n",
       "      <td>0</td>\n",
       "      <td>1</td>\n",
       "      <td>0</td>\n",
       "      <td>0</td>\n",
       "      <td>0</td>\n",
       "      <td>0</td>\n",
       "      <td>0</td>\n",
       "      <td>0</td>\n",
       "      <td>0</td>\n",
       "    </tr>\n",
       "  </tbody>\n",
       "</table>\n",
       "</div>"
      ],
      "text/plain": [
       "   asthma  cardiovascular  diabetes  failure  hypertension  immunosuppression  \\\n",
       "0       0               0         0        0             0                  0   \n",
       "1       0               0         1        0             1                  0   \n",
       "2       0               0         0        0             0                  0   \n",
       "3       0               0         1        0             1                  0   \n",
       "4       0               0         1        0             0                  0   \n",
       "\n",
       "   kidney  no_disease  obesity  unknown_disease  \n",
       "0       0           0        0                1  \n",
       "1       0           0        0                0  \n",
       "2       0           0        0                1  \n",
       "3       0           0        0                0  \n",
       "4       0           0        0                0  "
      ]
     },
     "execution_count": 407,
     "metadata": {},
     "output_type": "execute_result"
    }
   ],
   "source": [
    "# one-hot encode background_diseases\n",
    "idx_unknown = df[df['background_diseases'].isnull() & (df['background_diseases_binary'].isnull())].index\n",
    "idx_no = df[df['background_diseases'].isnull() & (df['background_diseases_binary']==0)].index\n",
    "\n",
    "new_bd = []\n",
    "for idx in range(len(dh)):\n",
    "    if idx in idx_unknown:\n",
    "        new_bd.append(\"unknown_disease\")\n",
    "    elif idx in idx_no:\n",
    "        new_bd.append(\"no_disease\")\n",
    "    else:\n",
    "        new_bd.append(df['background_diseases'][idx])\n",
    "\n",
    "vectorizer = CountVectorizer()\n",
    "new_bd = vectorizer.fit_transform(new_bd)\n",
    "new_bd_df = pd.DataFrame(new_bd.todense(), columns=vectorizer.get_feature_names())\n",
    "new_bd_df.head()"
   ]
  },
  {
   "cell_type": "code",
   "execution_count": 408,
   "metadata": {
    "scrolled": true
   },
   "outputs": [
    {
     "data": {
      "text/html": [
       "<div>\n",
       "<style scoped>\n",
       "    .dataframe tbody tr th:only-of-type {\n",
       "        vertical-align: middle;\n",
       "    }\n",
       "\n",
       "    .dataframe tbody tr th {\n",
       "        vertical-align: top;\n",
       "    }\n",
       "\n",
       "    .dataframe thead th {\n",
       "        text-align: right;\n",
       "    }\n",
       "</style>\n",
       "<table border=\"1\" class=\"dataframe\">\n",
       "  <thead>\n",
       "    <tr style=\"text-align: right;\">\n",
       "      <th></th>\n",
       "      <th>smoking</th>\n",
       "      <th>treatment</th>\n",
       "      <th>days_apart</th>\n",
       "      <th>confirmed_date</th>\n",
       "      <th>sex</th>\n",
       "      <th>date_onset_symptoms</th>\n",
       "      <th>age_band</th>\n",
       "      <th>age</th>\n",
       "      <th>severity_illness</th>\n",
       "      <th>asthma</th>\n",
       "      <th>cardiovascular</th>\n",
       "      <th>diabetes</th>\n",
       "      <th>failure</th>\n",
       "      <th>hypertension</th>\n",
       "      <th>immunosuppression</th>\n",
       "      <th>kidney</th>\n",
       "      <th>no_disease</th>\n",
       "      <th>obesity</th>\n",
       "      <th>unknown_disease</th>\n",
       "    </tr>\n",
       "  </thead>\n",
       "  <tbody>\n",
       "    <tr>\n",
       "      <th>0</th>\n",
       "      <td>1.0</td>\n",
       "      <td>clinic</td>\n",
       "      <td>0.0</td>\n",
       "      <td>2020-01-28</td>\n",
       "      <td>female</td>\n",
       "      <td>2020-01-28</td>\n",
       "      <td>20.0</td>\n",
       "      <td>26.0</td>\n",
       "      <td>NaN</td>\n",
       "      <td>0</td>\n",
       "      <td>0</td>\n",
       "      <td>0</td>\n",
       "      <td>0</td>\n",
       "      <td>0</td>\n",
       "      <td>0</td>\n",
       "      <td>0</td>\n",
       "      <td>0</td>\n",
       "      <td>0</td>\n",
       "      <td>1</td>\n",
       "    </tr>\n",
       "    <tr>\n",
       "      <th>1</th>\n",
       "      <td>0.0</td>\n",
       "      <td>hospitalized</td>\n",
       "      <td>0.0</td>\n",
       "      <td>2020-03-16</td>\n",
       "      <td>female</td>\n",
       "      <td>2020-03-16</td>\n",
       "      <td>40.0</td>\n",
       "      <td>47.0</td>\n",
       "      <td>deceased</td>\n",
       "      <td>0</td>\n",
       "      <td>0</td>\n",
       "      <td>1</td>\n",
       "      <td>0</td>\n",
       "      <td>1</td>\n",
       "      <td>0</td>\n",
       "      <td>0</td>\n",
       "      <td>0</td>\n",
       "      <td>0</td>\n",
       "      <td>0</td>\n",
       "    </tr>\n",
       "    <tr>\n",
       "      <th>2</th>\n",
       "      <td>0.0</td>\n",
       "      <td>clinic</td>\n",
       "      <td>2.0</td>\n",
       "      <td>2020-03-20</td>\n",
       "      <td>male</td>\n",
       "      <td>2020-03-18</td>\n",
       "      <td>40.0</td>\n",
       "      <td>48.0</td>\n",
       "      <td>NaN</td>\n",
       "      <td>0</td>\n",
       "      <td>0</td>\n",
       "      <td>0</td>\n",
       "      <td>0</td>\n",
       "      <td>0</td>\n",
       "      <td>0</td>\n",
       "      <td>0</td>\n",
       "      <td>0</td>\n",
       "      <td>0</td>\n",
       "      <td>1</td>\n",
       "    </tr>\n",
       "    <tr>\n",
       "      <th>3</th>\n",
       "      <td>0.0</td>\n",
       "      <td>hospitalized</td>\n",
       "      <td>5.0</td>\n",
       "      <td>2020-03-25</td>\n",
       "      <td>male</td>\n",
       "      <td>2020-03-20</td>\n",
       "      <td>50.0</td>\n",
       "      <td>51.0</td>\n",
       "      <td>NaN</td>\n",
       "      <td>0</td>\n",
       "      <td>0</td>\n",
       "      <td>1</td>\n",
       "      <td>0</td>\n",
       "      <td>1</td>\n",
       "      <td>0</td>\n",
       "      <td>0</td>\n",
       "      <td>0</td>\n",
       "      <td>0</td>\n",
       "      <td>0</td>\n",
       "    </tr>\n",
       "    <tr>\n",
       "      <th>4</th>\n",
       "      <td>0.0</td>\n",
       "      <td>hospitalized</td>\n",
       "      <td>0.0</td>\n",
       "      <td>2020-03-23</td>\n",
       "      <td>female</td>\n",
       "      <td>2020-03-23</td>\n",
       "      <td>60.0</td>\n",
       "      <td>61.0</td>\n",
       "      <td>NaN</td>\n",
       "      <td>0</td>\n",
       "      <td>0</td>\n",
       "      <td>1</td>\n",
       "      <td>0</td>\n",
       "      <td>0</td>\n",
       "      <td>0</td>\n",
       "      <td>0</td>\n",
       "      <td>0</td>\n",
       "      <td>0</td>\n",
       "      <td>0</td>\n",
       "    </tr>\n",
       "  </tbody>\n",
       "</table>\n",
       "</div>"
      ],
      "text/plain": [
       "   smoking     treatment  days_apart confirmed_date     sex  \\\n",
       "0      1.0        clinic         0.0     2020-01-28  female   \n",
       "1      0.0  hospitalized         0.0     2020-03-16  female   \n",
       "2      0.0        clinic         2.0     2020-03-20    male   \n",
       "3      0.0  hospitalized         5.0     2020-03-25    male   \n",
       "4      0.0  hospitalized         0.0     2020-03-23  female   \n",
       "\n",
       "  date_onset_symptoms  age_band   age severity_illness  asthma  \\\n",
       "0          2020-01-28      20.0  26.0              NaN       0   \n",
       "1          2020-03-16      40.0  47.0         deceased       0   \n",
       "2          2020-03-18      40.0  48.0              NaN       0   \n",
       "3          2020-03-20      50.0  51.0              NaN       0   \n",
       "4          2020-03-23      60.0  61.0              NaN       0   \n",
       "\n",
       "   cardiovascular  diabetes  failure  hypertension  immunosuppression  kidney  \\\n",
       "0               0         0        0             0                  0       0   \n",
       "1               0         1        0             1                  0       0   \n",
       "2               0         0        0             0                  0       0   \n",
       "3               0         1        0             1                  0       0   \n",
       "4               0         1        0             0                  0       0   \n",
       "\n",
       "   no_disease  obesity  unknown_disease  \n",
       "0           0        0                1  \n",
       "1           0        0                0  \n",
       "2           0        0                1  \n",
       "3           0        0                0  \n",
       "4           0        0                0  "
      ]
     },
     "execution_count": 408,
     "metadata": {},
     "output_type": "execute_result"
    }
   ],
   "source": [
    "# concatenate the new_bd_df with old df\n",
    "df = pd.concat([df, new_bd_df], axis=1).drop(['background_diseases', 'background_diseases_binary'], axis=1)\n",
    "df.head()"
   ]
  },
  {
   "cell_type": "markdown",
   "metadata": {},
   "source": [
    "### 3.3 Smoking"
   ]
  },
  {
   "cell_type": "code",
   "execution_count": 409,
   "metadata": {},
   "outputs": [
    {
     "data": {
      "image/png": "[encoded data removed]",
      "text/plain": [
       "<Figure size 432x288 with 1 Axes>"
      ]
     },
     "metadata": {
      "needs_background": "light"
     },
     "output_type": "display_data"
    }
   ],
   "source": [
    "smk = df['smoking'].value_counts(dropna=False)\n",
    "plt.bar(smk.index.astype(\"str\"), smk.values)\n",
    "plt.show()"
   ]
  },
  {
   "cell_type": "markdown",
   "metadata": {},
   "source": [
    "* Replace missing values of smoking with the mode value"
   ]
  },
  {
   "cell_type": "code",
   "execution_count": 410,
   "metadata": {},
   "outputs": [
    {
     "data": {
      "text/plain": [
       "0.0    108078\n",
       "1.0     11245\n",
       "Name: smoking, dtype: int64"
      ]
     },
     "execution_count": 410,
     "metadata": {},
     "output_type": "execute_result"
    }
   ],
   "source": [
    "df.fillna({'smoking': df['smoking'].mode()[0]}, inplace=True)\n",
    "df['smoking'].value_counts(dropna=False)"
   ]
  },
  {
   "cell_type": "markdown",
   "metadata": {},
   "source": [
    "### 3.4 Treatment"
   ]
  },
  {
   "cell_type": "markdown",
   "metadata": {},
   "source": [
    "* Treatment information is not useful for predicting if the patient is in severe status. We will drop this feature."
   ]
  },
  {
   "cell_type": "code",
   "execution_count": 411,
   "metadata": {},
   "outputs": [],
   "source": [
    "df.drop(columns=['treatment'], inplace=True)"
   ]
  },
  {
   "cell_type": "markdown",
   "metadata": {},
   "source": [
    "### 3.5 Days apart, confirmed date and date onset symptoms"
   ]
  },
  {
   "cell_type": "markdown",
   "metadata": {},
   "source": [
    "* Days_apart is the difference between confirmed_date subtract date_onset_symptoms. Thus we only keep days_apart. As the missing values of days_apart is than 0.1%. We will drop the missing values."
   ]
  },
  {
   "cell_type": "code",
   "execution_count": 412,
   "metadata": {},
   "outputs": [],
   "source": [
    "df.drop(columns=['date_onset_symptoms', 'confirmed_date'], inplace=True)\n",
    "df.dropna(subset=['days_apart'], inplace=True)"
   ]
  },
  {
   "cell_type": "markdown",
   "metadata": {},
   "source": [
    "### 3.6 Sex"
   ]
  },
  {
   "cell_type": "code",
   "execution_count": 413,
   "metadata": {},
   "outputs": [
    {
     "data": {
      "text/plain": [
       "female    60683\n",
       "male      58552\n",
       "NaN          22\n",
       "Name: sex, dtype: int64"
      ]
     },
     "execution_count": 413,
     "metadata": {},
     "output_type": "execute_result"
    }
   ],
   "source": [
    "df['sex'].value_counts(dropna=False)"
   ]
  },
  {
   "cell_type": "markdown",
   "metadata": {},
   "source": [
    "* We will drop the missing values encode sex as is_female"
   ]
  },
  {
   "cell_type": "code",
   "execution_count": 414,
   "metadata": {},
   "outputs": [],
   "source": [
    "df.dropna(subset=['sex'], inplace=True)\n",
    "df['is_female'] = df['sex'].apply(lambda x: 1 if x == 'female' else 0)\n",
    "df.drop(columns='sex', inplace=True)"
   ]
  },
  {
   "cell_type": "markdown",
   "metadata": {},
   "source": [
    "### 3.7 Age and age band"
   ]
  },
  {
   "cell_type": "code",
   "execution_count": 416,
   "metadata": {},
   "outputs": [
    {
     "data": {
      "image/png": "[encoded data removed]",
      "text/plain": [
       "<Figure size 864x216 with 2 Axes>"
      ]
     },
     "metadata": {
      "needs_background": "light"
     },
     "output_type": "display_data"
    }
   ],
   "source": [
    "# Distribution of age and age_band\n",
    "fig, (ax1, ax2) = plt.subplots(1, 2, figsize=(12,3))\n",
    "ax1.hist(df.age)\n",
    "ax1.set_title('age distribution')\n",
    "ax2.hist(df.age_band)\n",
    "ax2.set_title('age_band distribution')\n",
    "plt.show()"
   ]
  },
  {
   "cell_type": "markdown",
   "metadata": {},
   "source": [
    "* Age band gives the same information as age, but in worse resolution. Thus we just drop the column age_band"
   ]
  },
  {
   "cell_type": "code",
   "execution_count": 417,
   "metadata": {},
   "outputs": [],
   "source": [
    "df.drop(columns='age_band', inplace=True)"
   ]
  },
  {
   "cell_type": "markdown",
   "metadata": {},
   "source": [
    "### 3.8 Generate target"
   ]
  },
  {
   "cell_type": "code",
   "execution_count": 419,
   "metadata": {},
   "outputs": [
    {
     "data": {
      "text/plain": [
       "array([nan, 'deceased', 'critical'], dtype=object)"
      ]
     },
     "execution_count": 419,
     "metadata": {},
     "output_type": "execute_result"
    }
   ],
   "source": [
    "# generate target is_severe\n",
    "mex_df[\"severity_illness\"].unique()"
   ]
  },
  {
   "cell_type": "code",
   "execution_count": 420,
   "metadata": {},
   "outputs": [
    {
     "data": {
      "text/plain": [
       "0"
      ]
     },
     "execution_count": 420,
     "metadata": {},
     "output_type": "execute_result"
    }
   ],
   "source": [
    "len(mex_df[mex_df['deceased_date'].notnull() & mex_df['severity_illness'].isnull()])"
   ]
  },
  {
   "cell_type": "markdown",
   "metadata": {},
   "source": [
    "* **For all the Mexico patients, the recorded severity_illness has only three values: non, critical and deceased. All the deceased patients (with deceased_date) have a notnull severity_illness. Thus we can consider that patients with notnull severity_illness are in the status of is_severe, while patients with null severity_illness are not in severe status.**"
   ]
  },
  {
   "cell_type": "code",
   "execution_count": 421,
   "metadata": {},
   "outputs": [],
   "source": [
    "# Generate target is_severe = 1 ('critical' and 'deceased') and 0 (else) and drop column severity_illness\n",
    "\n",
    "df['severity_illness'] = df['severity_illness'].apply(lambda x: 1 if str(x)!='nan' else 0)\n",
    "df = df.rename(columns={'severity_illness': 'is_severe'})"
   ]
  },
  {
   "cell_type": "markdown",
   "metadata": {},
   "source": [
    "### 3.9 Clean data overview"
   ]
  },
  {
   "cell_type": "code",
   "execution_count": 422,
   "metadata": {},
   "outputs": [
    {
     "data": {
      "text/html": [
       "<div>\n",
       "<style scoped>\n",
       "    .dataframe tbody tr th:only-of-type {\n",
       "        vertical-align: middle;\n",
       "    }\n",
       "\n",
       "    .dataframe tbody tr th {\n",
       "        vertical-align: top;\n",
       "    }\n",
       "\n",
       "    .dataframe thead th {\n",
       "        text-align: right;\n",
       "    }\n",
       "</style>\n",
       "<table border=\"1\" class=\"dataframe\">\n",
       "  <thead>\n",
       "    <tr style=\"text-align: right;\">\n",
       "      <th></th>\n",
       "      <th>smoking</th>\n",
       "      <th>days_apart</th>\n",
       "      <th>age</th>\n",
       "      <th>is_severe</th>\n",
       "      <th>asthma</th>\n",
       "      <th>cardiovascular</th>\n",
       "      <th>diabetes</th>\n",
       "      <th>failure</th>\n",
       "      <th>hypertension</th>\n",
       "      <th>immunosuppression</th>\n",
       "      <th>kidney</th>\n",
       "      <th>no_disease</th>\n",
       "      <th>obesity</th>\n",
       "      <th>unknown_disease</th>\n",
       "      <th>is_female</th>\n",
       "    </tr>\n",
       "  </thead>\n",
       "  <tbody>\n",
       "    <tr>\n",
       "      <th>0</th>\n",
       "      <td>1.0</td>\n",
       "      <td>0.0</td>\n",
       "      <td>26.0</td>\n",
       "      <td>0</td>\n",
       "      <td>0</td>\n",
       "      <td>0</td>\n",
       "      <td>0</td>\n",
       "      <td>0</td>\n",
       "      <td>0</td>\n",
       "      <td>0</td>\n",
       "      <td>0</td>\n",
       "      <td>0</td>\n",
       "      <td>0</td>\n",
       "      <td>1</td>\n",
       "      <td>1</td>\n",
       "    </tr>\n",
       "    <tr>\n",
       "      <th>1</th>\n",
       "      <td>0.0</td>\n",
       "      <td>0.0</td>\n",
       "      <td>47.0</td>\n",
       "      <td>1</td>\n",
       "      <td>0</td>\n",
       "      <td>0</td>\n",
       "      <td>1</td>\n",
       "      <td>0</td>\n",
       "      <td>1</td>\n",
       "      <td>0</td>\n",
       "      <td>0</td>\n",
       "      <td>0</td>\n",
       "      <td>0</td>\n",
       "      <td>0</td>\n",
       "      <td>1</td>\n",
       "    </tr>\n",
       "    <tr>\n",
       "      <th>2</th>\n",
       "      <td>0.0</td>\n",
       "      <td>2.0</td>\n",
       "      <td>48.0</td>\n",
       "      <td>0</td>\n",
       "      <td>0</td>\n",
       "      <td>0</td>\n",
       "      <td>0</td>\n",
       "      <td>0</td>\n",
       "      <td>0</td>\n",
       "      <td>0</td>\n",
       "      <td>0</td>\n",
       "      <td>0</td>\n",
       "      <td>0</td>\n",
       "      <td>1</td>\n",
       "      <td>0</td>\n",
       "    </tr>\n",
       "    <tr>\n",
       "      <th>3</th>\n",
       "      <td>0.0</td>\n",
       "      <td>5.0</td>\n",
       "      <td>51.0</td>\n",
       "      <td>0</td>\n",
       "      <td>0</td>\n",
       "      <td>0</td>\n",
       "      <td>1</td>\n",
       "      <td>0</td>\n",
       "      <td>1</td>\n",
       "      <td>0</td>\n",
       "      <td>0</td>\n",
       "      <td>0</td>\n",
       "      <td>0</td>\n",
       "      <td>0</td>\n",
       "      <td>0</td>\n",
       "    </tr>\n",
       "    <tr>\n",
       "      <th>4</th>\n",
       "      <td>0.0</td>\n",
       "      <td>0.0</td>\n",
       "      <td>61.0</td>\n",
       "      <td>0</td>\n",
       "      <td>0</td>\n",
       "      <td>0</td>\n",
       "      <td>1</td>\n",
       "      <td>0</td>\n",
       "      <td>0</td>\n",
       "      <td>0</td>\n",
       "      <td>0</td>\n",
       "      <td>0</td>\n",
       "      <td>0</td>\n",
       "      <td>0</td>\n",
       "      <td>1</td>\n",
       "    </tr>\n",
       "  </tbody>\n",
       "</table>\n",
       "</div>"
      ],
      "text/plain": [
       "   smoking  days_apart   age  is_severe  asthma  cardiovascular  diabetes  \\\n",
       "0      1.0         0.0  26.0          0       0               0         0   \n",
       "1      0.0         0.0  47.0          1       0               0         1   \n",
       "2      0.0         2.0  48.0          0       0               0         0   \n",
       "3      0.0         5.0  51.0          0       0               0         1   \n",
       "4      0.0         0.0  61.0          0       0               0         1   \n",
       "\n",
       "   failure  hypertension  immunosuppression  kidney  no_disease  obesity  \\\n",
       "0        0             0                  0       0           0        0   \n",
       "1        0             1                  0       0           0        0   \n",
       "2        0             0                  0       0           0        0   \n",
       "3        0             1                  0       0           0        0   \n",
       "4        0             0                  0       0           0        0   \n",
       "\n",
       "   unknown_disease  is_female  \n",
       "0                1          1  \n",
       "1                0          1  \n",
       "2                1          0  \n",
       "3                0          0  \n",
       "4                0          1  "
      ]
     },
     "execution_count": 422,
     "metadata": {},
     "output_type": "execute_result"
    }
   ],
   "source": [
    "df.reset_index(drop=True, inplace=True)\n",
    "df.head()"
   ]
  },
  {
   "cell_type": "code",
   "execution_count": 423,
   "metadata": {},
   "outputs": [
    {
     "data": {
      "image/png": "[encoded data removed]",
      "text/plain": [
       "<Figure size 1008x864 with 2 Axes>"
      ]
     },
     "metadata": {
      "needs_background": "light"
     },
     "output_type": "display_data"
    }
   ],
   "source": [
    "def pea_corr(df):\n",
    "    '''helper function for correlation analysis'''\n",
    "    colormap = plt.cm.RdBu\n",
    "    corr = df.astype(float).corr()\n",
    "\n",
    "    plt.figure(figsize=(14,12))\n",
    "    plt.title('Pearson Correlation of Features', y=1.05, size=15)\n",
    "    sns.set(font_scale=0.9)\n",
    "    sns.heatmap(round(corr,2),linewidths=0.1,vmax=1.0, square=True, \n",
    "                cmap=colormap, linecolor='white', annot=True)\n",
    "    plt.show()\n",
    "\n",
    "pea_corr(df)"
   ]
  },
  {
   "cell_type": "markdown",
   "metadata": {},
   "source": [
    "## 4. Modeling"
   ]
  },
  {
   "cell_type": "markdown",
   "metadata": {},
   "source": [
    "### 4.1 Data split for train and test"
   ]
  },
  {
   "cell_type": "code",
   "execution_count": 424,
   "metadata": {},
   "outputs": [],
   "source": [
    "# Creat train and test data sets\n",
    "X, y = df.drop('is_severe', axis=1), df['is_severe'].copy()\n",
    "X_train, X_test, y_train, y_test = train_test_split(X, y, test_size=0.2, random_state=42)"
   ]
  },
  {
   "cell_type": "markdown",
   "metadata": {},
   "source": [
    "### 4.2 Data resampling"
   ]
  },
  {
   "cell_type": "code",
   "execution_count": 425,
   "metadata": {},
   "outputs": [
    {
     "data": {
      "text/plain": [
       "0    0.946125\n",
       "1    0.053875\n",
       "Name: is_severe, dtype: float64"
      ]
     },
     "execution_count": 425,
     "metadata": {},
     "output_type": "execute_result"
    }
   ],
   "source": [
    "y_train.value_counts(normalize=True)"
   ]
  },
  {
   "cell_type": "code",
   "execution_count": 426,
   "metadata": {},
   "outputs": [],
   "source": [
    "# resample the train data\n",
    "over = SMOTE(random_state = 2, sampling_strategy=0.1, k_neighbors=4) \n",
    "X_train_temp, y_train_temp = over.fit_sample(X_train, y_train)\n",
    "\n",
    "under = RandomUnderSampler(sampling_strategy=0.5)\n",
    "X_train, y_train = under.fit_sample(X_train_temp, y_train_temp)"
   ]
  },
  {
   "cell_type": "code",
   "execution_count": 427,
   "metadata": {},
   "outputs": [
    {
     "data": {
      "text/plain": [
       "0    0.666667\n",
       "1    0.333333\n",
       "Name: is_severe, dtype: float64"
      ]
     },
     "execution_count": 427,
     "metadata": {},
     "output_type": "execute_result"
    }
   ],
   "source": [
    "y_train.value_counts(normalize=True)"
   ]
  },
  {
   "cell_type": "markdown",
   "metadata": {},
   "source": [
    "### 4.3 Base models building"
   ]
  },
  {
   "cell_type": "markdown",
   "metadata": {},
   "source": [
    "#### 4.3.1 Logistic regression"
   ]
  },
  {
   "cell_type": "code",
   "execution_count": 428,
   "metadata": {},
   "outputs": [],
   "source": [
    "steps = [('rescale', MinMaxScaler()),\n",
    "         ('lgr', LogisticRegression())]\n",
    "model_lgr = Pipeline(steps)\n",
    "model_lgr = model_lgr.fit(X_train, y_train)\n",
    "\n",
    "y_train_proba_lgr = model_lgr.predict_proba(X_train)\n",
    "y_test_proba_lgr = model_lgr.predict_proba(X_test)"
   ]
  },
  {
   "cell_type": "markdown",
   "metadata": {},
   "source": [
    "#### 4.3.2 Naive Bayes"
   ]
  },
  {
   "cell_type": "code",
   "execution_count": 429,
   "metadata": {},
   "outputs": [],
   "source": [
    "model_nb= GaussianNB()\n",
    "model_nb.fit(X_train, y_train)\n",
    "\n",
    "y_train_proba_nb = model_nb.predict_proba(X_train)\n",
    "y_test_proba_nb = model_nb.predict_proba(X_test)"
   ]
  },
  {
   "cell_type": "markdown",
   "metadata": {},
   "source": [
    "#### 4.3.3 K nearest neighbors"
   ]
  },
  {
   "cell_type": "code",
   "execution_count": 430,
   "metadata": {},
   "outputs": [],
   "source": [
    "model_knn= KNeighborsClassifier()\n",
    "model_knn.fit(X_train, y_train)\n",
    "\n",
    "y_train_proba_knn = model_knn.predict_proba(X_train)\n",
    "y_test_proba_knn = model_knn.predict_proba(X_test)"
   ]
  },
  {
   "cell_type": "markdown",
   "metadata": {},
   "source": [
    "#### 4.3.4 Random forest"
   ]
  },
  {
   "cell_type": "code",
   "execution_count": 431,
   "metadata": {},
   "outputs": [],
   "source": [
    "model_rf = RandomForestClassifier(random_state=42)\n",
    "model_rf.fit(X_train, y_train)\n",
    "\n",
    "y_train_proba_rf = model_rf.predict_proba(X_train)\n",
    "y_test_proba_rf = model_rf.predict_proba(X_test)"
   ]
  },
  {
   "cell_type": "markdown",
   "metadata": {},
   "source": [
    "#### 4.3.5 XGBoost"
   ]
  },
  {
   "cell_type": "code",
   "execution_count": 432,
   "metadata": {},
   "outputs": [],
   "source": [
    "model_xgb = XGBClassifier(random_state=42)\n",
    "model_xgb.fit(X_train, y_train)\n",
    "\n",
    "y_train_proba_xgb = model_xgb.predict_proba(X_train)\n",
    "y_test_proba_xgb = model_xgb.predict_proba(X_test)"
   ]
  },
  {
   "cell_type": "markdown",
   "metadata": {},
   "source": [
    "### 4.4 Base models comparison "
   ]
  },
  {
   "cell_type": "code",
   "execution_count": 433,
   "metadata": {},
   "outputs": [
    {
     "name": "stdout",
     "output_type": "stream",
     "text": [
      "Logistic regressionroc_auc | Train: 0.7747 | Test:  0.7772\n",
      "Naive Bayesroc_auc         | Train: 0.7473 | Test:  0.756\n",
      "K nearest neighborsroc_auc | Train: 0.8901 | Test:  0.7232\n",
      "Random forestroc_auc       | Train: 0.9666 | Test:  0.7436\n",
      "XGBoostroc_auc             | Train: 0.8311 | Test:  0.8068\n"
     ]
    }
   ],
   "source": [
    "model_names = [\"Logistic regression\", \"Naive Bayes\", \"K nearest neighbors\", \"Random forest\", \"XGBoost\"]\n",
    "models = [model_lgr, model_nb, model_knn, model_rf, model_xgb]\n",
    "train_probas = [y_train_proba_lgr, y_train_proba_nb, y_train_proba_knn, y_train_proba_rf, y_train_proba_xgb]\n",
    "test_probas = [y_test_proba_lgr, y_test_proba_nb, y_test_proba_knn, y_test_proba_rf, y_test_proba_xgb]\n",
    "train_roc_aucs = [] \n",
    "test_roc_aucs = []\n",
    "\n",
    "for idx in range(5):\n",
    "    train_score = round(roc_auc_score(y_train, train_probas[idx][:, 1]), 4)\n",
    "    train_roc_aucs.append(train_score)\n",
    "    test_score = round(roc_auc_score(y_test, test_probas[idx][:, 1]), 4)\n",
    "    test_roc_aucs.append(test_score)\n",
    "    print(model_names[idx] + \"roc_auc\" + \" \"*(20 - len(model_names[idx])) + \n",
    "          f\"| Train: {train_score} \" + f\"| Test:  {test_score}\")"
   ]
  },
  {
   "cell_type": "code",
   "execution_count": 434,
   "metadata": {},
   "outputs": [
    {
     "data": {
      "image/png": "[encoded data removed]",
      "text/plain": [
       "<Figure size 432x288 with 1 Axes>"
      ]
     },
     "metadata": {},
     "output_type": "display_data"
    }
   ],
   "source": [
    "xpos = np.arange(5)\n",
    "plt.bar(xpos-0.2, train_roc_aucs, width=0.4, label=\"Train\")\n",
    "plt.bar(xpos+0.2, test_roc_aucs, width=0.4, label=\"Test\")\n",
    "plt.xticks(xpos, model_names, rotation=45)\n",
    "plt.title(\"Base Models Comparison\")\n",
    "plt.ylabel(\"ROC AUC\")\n",
    "plt.ylim(0.5, 1.2)\n",
    "plt.legend(loc=\"best\")\n",
    "plt.show()"
   ]
  },
  {
   "cell_type": "markdown",
   "metadata": {},
   "source": [
    "* XGBoot has the is best model considering both the roc_auc score (bias) and overfitting issue (variance)"
   ]
  },
  {
   "cell_type": "markdown",
   "metadata": {},
   "source": [
    "### 4.5 Model optimization"
   ]
  },
  {
   "cell_type": "code",
   "execution_count": 435,
   "metadata": {},
   "outputs": [],
   "source": [
    "# Gridserach to find the best hyper parameters\n",
    "\n",
    "params = {\n",
    "#           'min_child_weight': [1, 3],\n",
    "#           'gamma': [0, 1],\n",
    "#           'colsample_bytree': [0.6, 1],\n",
    "          'n_estimators': [100, 200],\n",
    "          'reg_alpha': [0, 1],\n",
    "          'reg_lambda': [0, 0.1, 1],\n",
    "          'max_depth': [2, 3, 4]}\n",
    "\n",
    "model = model_xgb\n",
    "scorer = make_scorer(roc_auc_score)\n",
    "clf = GridSearchCV(model, params, scoring=scorer)\n",
    "\n",
    "clf.fit(X_train, y_train)\n",
    "results = clf.cv_results_\n",
    "best_model = clf.best_estimator_"
   ]
  },
  {
   "cell_type": "code",
   "execution_count": 436,
   "metadata": {},
   "outputs": [
    {
     "data": {
      "text/plain": [
       "XGBClassifier(max_depth=4, n_estimators=200, random_state=42, reg_alpha=1,\n",
       "              reg_lambda=0)"
      ]
     },
     "execution_count": 436,
     "metadata": {},
     "output_type": "execute_result"
    }
   ],
   "source": [
    "model = best_model\n",
    "model"
   ]
  },
  {
   "cell_type": "markdown",
   "metadata": {},
   "source": [
    "### 4.6 Model prediction"
   ]
  },
  {
   "cell_type": "code",
   "execution_count": 437,
   "metadata": {},
   "outputs": [
    {
     "name": "stdout",
     "output_type": "stream",
     "text": [
      "XGBoostroc_auc| Train: 0.8561 | Test:  0.8048\n"
     ]
    }
   ],
   "source": [
    "model.fit(X_train, y_train)\n",
    "\n",
    "y_train_proba = model.predict_proba(X_train)\n",
    "y_test_proba = model.predict_proba(X_test)\n",
    "\n",
    "train_score = round(roc_auc_score(y_train, y_train_proba[:, 1]), 4)\n",
    "test_score = round(roc_auc_score(y_test, y_test_proba[:, 1]), 4)\n",
    "print(model_names[idx] + \"roc_auc\" + f\"| Train: {train_score} \" + f\"| Test:  {test_score}\")"
   ]
  },
  {
   "cell_type": "code",
   "execution_count": 438,
   "metadata": {},
   "outputs": [
    {
     "name": "stdout",
     "output_type": "stream",
     "text": [
      "Train report\n",
      "              precision    recall  f1-score   support\n",
      "\n",
      "           0       0.83      0.86      0.84     18048\n",
      "           1       0.69      0.65      0.67      9024\n",
      "\n",
      "    accuracy                           0.79     27072\n",
      "   macro avg       0.76      0.75      0.76     27072\n",
      "weighted avg       0.78      0.79      0.78     27072\n",
      "\n",
      "\n",
      "Test report\n",
      "              precision    recall  f1-score   support\n",
      "\n",
      "           0       0.97      0.85      0.91     22577\n",
      "           1       0.17      0.52      0.25      1270\n",
      "\n",
      "    accuracy                           0.83     23847\n",
      "   macro avg       0.57      0.69      0.58     23847\n",
      "weighted avg       0.93      0.83      0.87     23847\n",
      "\n"
     ]
    }
   ],
   "source": [
    "from sklearn.metrics import classification_report\n",
    "y_train_pred = model.predict(X_train)\n",
    "y_test_pred = model.predict(X_test)\n",
    "\n",
    "print(\"Train report\")\n",
    "print(classification_report(y_train, y_train_pred))\n",
    "print()\n",
    "print(\"Test report\")\n",
    "print(classification_report(y_test, y_test_pred))"
   ]
  },
  {
   "cell_type": "markdown",
   "metadata": {},
   "source": [
    "### 4.7 Feature importance"
   ]
  },
  {
   "cell_type": "code",
   "execution_count": 439,
   "metadata": {},
   "outputs": [],
   "source": [
    "feas = X_train.columns\n",
    "fea_imps = model.feature_importances_"
   ]
  },
  {
   "cell_type": "code",
   "execution_count": 440,
   "metadata": {},
   "outputs": [
    {
     "data": {
      "image/png": "[encoded data removed]",
      "text/plain": [
       "<Figure size 1152x576 with 1 Axes>"
      ]
     },
     "metadata": {},
     "output_type": "display_data"
    }
   ],
   "source": [
    "res = dict(sorted(zip(feas, fea_imps), key=lambda x: x[1]))\n",
    "\n",
    "plt.figure(figsize=(16, 8))\n",
    "plt.barh(range(len(res)), res.values())\n",
    "plt.yticks(range(len(res)), res.keys())\n",
    "plt.show()"
   ]
  },
  {
   "cell_type": "code",
   "execution_count": 441,
   "metadata": {},
   "outputs": [],
   "source": [
    "is_severe_train = X_train[y_train == 1]\n",
    "not_severe_train = X_train[y_train == 0]\n",
    "\n",
    "is_severe_test = X_test[y_test == 1]\n",
    "not_severe_test = X_test[y_test == 0]"
   ]
  },
  {
   "cell_type": "code",
   "execution_count": 485,
   "metadata": {},
   "outputs": [],
   "source": [
    "# helper function to show the distribution on different features\n",
    "def distribution(fea, ticks):\n",
    "    '''Plot the target distribution on FEA (string)'''\n",
    "    \n",
    "    print('Distribution on ' + fea + ':')\n",
    "    fig, (ax1, ax2) = plt.subplots(1, 2, figsize=(12,3))\n",
    "    \n",
    "    ax1.hist(is_severe_train[fea], alpha=0.5, density=True, label='is severe')\n",
    "    ax1.hist(not_severe_train[fea], alpha=0.5, density=True, label='not severe')\n",
    "    ax1.set_title('train')\n",
    "    ax1.legend(loc=\"best\")\n",
    "    ax1.set_xlabel(fea)\n",
    "    ax1.set_xticks(ticks)\n",
    "    \n",
    "    ax2.hist(is_severe_test[fea], alpha=0.5, density=True, label='is severe')\n",
    "    ax2.hist(not_severe_test[fea], alpha=0.5, density=True, label='not severe')\n",
    "    ax2.set_title('test')\n",
    "    ax2.legend(loc=\"best\")\n",
    "    ax2.set_xlabel(fea)\n",
    "    ax2.set_xticks(ticks)\n",
    "        \n",
    "    plt.show()"
   ]
  },
  {
   "cell_type": "code",
   "execution_count": 487,
   "metadata": {},
   "outputs": [
    {
     "name": "stdout",
     "output_type": "stream",
     "text": [
      "Distribution on unknown_disease:\n"
     ]
    },
    {
     "data": {
      "image/png": "[encoded data removed]",
      "text/plain": [
       "<Figure size 864x216 with 2 Axes>"
      ]
     },
     "metadata": {},
     "output_type": "display_data"
    }
   ],
   "source": [
    "fea = 'unknown_disease'\n",
    "ticks = X[fea].unique()\n",
    "distribution(fea, ticks)"
   ]
  },
  {
   "cell_type": "code",
   "execution_count": 488,
   "metadata": {},
   "outputs": [
    {
     "name": "stdout",
     "output_type": "stream",
     "text": [
      "Distribution on smoking:\n"
     ]
    },
    {
     "data": {
      "image/png": "[encoded data removed]",
      "text/plain": [
       "<Figure size 864x216 with 2 Axes>"
      ]
     },
     "metadata": {},
     "output_type": "display_data"
    }
   ],
   "source": [
    "fea = 'smoking'\n",
    "ticks = X[fea].unique()\n",
    "distribution(fea, ticks)"
   ]
  },
  {
   "cell_type": "code",
   "execution_count": 489,
   "metadata": {},
   "outputs": [
    {
     "name": "stdout",
     "output_type": "stream",
     "text": [
      "Distribution on age:\n"
     ]
    },
    {
     "data": {
      "image/png": "[encoded data removed]",
      "text/plain": [
       "<Figure size 864x216 with 2 Axes>"
      ]
     },
     "metadata": {},
     "output_type": "display_data"
    }
   ],
   "source": [
    "fea = 'age'\n",
    "ticks = mex_df[\"age_band\"].dropna().unique()\n",
    "distribution(fea, ticks)"
   ]
  },
  {
   "cell_type": "code",
   "execution_count": 490,
   "metadata": {},
   "outputs": [
    {
     "name": "stdout",
     "output_type": "stream",
     "text": [
      "Distribution on no_disease:\n"
     ]
    },
    {
     "data": {
      "image/png": "[encoded data removed]",
      "text/plain": [
       "<Figure size 864x216 with 2 Axes>"
      ]
     },
     "metadata": {},
     "output_type": "display_data"
    }
   ],
   "source": [
    "fea = 'no_disease'\n",
    "ticks = X[fea].unique()\n",
    "distribution(fea, ticks)"
   ]
  },
  {
   "cell_type": "code",
   "execution_count": 491,
   "metadata": {},
   "outputs": [
    {
     "name": "stdout",
     "output_type": "stream",
     "text": [
      "Distribution on is_female:\n"
     ]
    },
    {
     "data": {
      "image/png": "[encoded data removed]",
      "text/plain": [
       "<Figure size 864x216 with 2 Axes>"
      ]
     },
     "metadata": {},
     "output_type": "display_data"
    }
   ],
   "source": [
    "fea = 'is_female'\n",
    "ticks = X[fea].unique()\n",
    "distribution(fea, ticks)"
   ]
  },
  {
   "cell_type": "code",
   "execution_count": 492,
   "metadata": {},
   "outputs": [
    {
     "name": "stdout",
     "output_type": "stream",
     "text": [
      "Distribution on asthma:\n"
     ]
    },
    {
     "data": {
      "image/png": "[encoded data removed]",
      "text/plain": [
       "<Figure size 864x216 with 2 Axes>"
      ]
     },
     "metadata": {},
     "output_type": "display_data"
    }
   ],
   "source": [
    "fea = 'asthma'\n",
    "ticks = X[fea].unique()\n",
    "distribution(fea, ticks)"
   ]
  },
  {
   "cell_type": "markdown",
   "metadata": {},
   "source": [
    "### 4.8 Summary"
   ]
  },
  {
   "cell_type": "markdown",
   "metadata": {},
   "source": [
    "1. Aged people, especially those who have background diseases should be more cautious about COVID-19.\n",
    "2. Female seems to be slightly more vulnerable to covid 19"
   ]
  }
 ],
 "metadata": {
  "kernelspec": {
   "display_name": "Python 3",
   "language": "python",
   "name": "python3"
  },
  "language_info": {
   "codemirror_mode": {
    "name": "ipython",
    "version": 3
   },
   "file_extension": ".py",
   "mimetype": "text/x-python",
   "name": "python",
   "nbconvert_exporter": "python",
   "pygments_lexer": "ipython3",
   "version": "3.7.7"
  }
 },
 "nbformat": 4,
 "nbformat_minor": 4
}
